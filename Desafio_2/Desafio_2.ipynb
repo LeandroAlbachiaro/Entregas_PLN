{
 "cells": [
  {
   "cell_type": "markdown",
   "metadata": {
    "id": "Ue5hxxkdAQJg"
   },
   "source": [
    "<img src=\"https://github.com/hernancontigiani/ceia_memorias_especializacion/raw/master/Figures/logoFIUBA.jpg\" width=\"500\" align=\"center\">\n",
    "\n",
    "\n",
    "# Procesamiento de lenguaje natural\n",
    "## Sistema de obtención de información con NLTK utilizando un corpus de wikipedia\n"
   ]
  },
  {
   "cell_type": "code",
   "execution_count": 1,
   "metadata": {
    "id": "kCED1hh-Ioyf"
   },
   "outputs": [
    {
     "name": "stderr",
     "output_type": "stream",
     "text": [
      "[nltk_data] Downloading package punkt to\n",
      "[nltk_data]     C:\\Users\\alba_\\AppData\\Roaming\\nltk_data...\n",
      "[nltk_data]   Package punkt is already up-to-date!\n",
      "[nltk_data] Downloading package wordnet to\n",
      "[nltk_data]     C:\\Users\\alba_\\AppData\\Roaming\\nltk_data...\n",
      "[nltk_data]   Package wordnet is already up-to-date!\n",
      "[nltk_data] Downloading package omw-1.4 to\n",
      "[nltk_data]     C:\\Users\\alba_\\AppData\\Roaming\\nltk_data...\n",
      "[nltk_data]   Package omw-1.4 is already up-to-date!\n"
     ]
    },
    {
     "data": {
      "text/plain": [
       "True"
      ]
     },
     "execution_count": 1,
     "metadata": {},
     "output_type": "execute_result"
    }
   ],
   "source": [
    "import json\n",
    "import string\n",
    "import random\n",
    "import re # Regular Expressions (regex)\n",
    "import urllib.request\n",
    "\n",
    "import numpy as np\n",
    "\n",
    "# Para leer y parsear el texto en HTML de wikipedia\n",
    "import bs4 as bs\n",
    "\n",
    "import nltk\n",
    "# Descargar el diccionario\n",
    "nltk.download(\"punkt\")\n",
    "nltk.download(\"wordnet\")\n",
    "nltk.download('omw-1.4')"
   ]
  },
  {
   "cell_type": "markdown",
   "metadata": {
    "id": "DMOa4JPSCJ29"
   },
   "source": [
    "### Datos\n",
    "Se consumirán los datos del artículo de wikipedia sobre el deporte \"Tennis\" en inglés."
   ]
  },
  {
   "cell_type": "code",
   "execution_count": 2,
   "metadata": {
    "id": "RIO7b8GjAC17"
   },
   "outputs": [],
   "source": [
    "raw_html = urllib.request.urlopen('https://en.wikipedia.org/wiki/Association_football')\n",
    "#raw_html = urllib.request.urlopen('https://es.wikipedia.org/wiki/Futbol')\n",
    "raw_html = raw_html.read()\n",
    "\n",
    "# Parsear artículo, 'lxml' es el parser a utilizar\n",
    "article_html = bs.BeautifulSoup(raw_html, 'lxml')\n",
    "\n",
    "# Encontrar todos los párrafos del HTML (bajo el tag <p>)\n",
    "# y tenerlos disponible como lista\n",
    "article_paragraphs = article_html.find_all('p')\n",
    "\n",
    "article_text = ''\n",
    "\n",
    "for para in article_paragraphs:\n",
    "    article_text += para.text\n",
    "\n",
    "article_text = article_text.lower()"
   ]
  },
  {
   "cell_type": "code",
   "execution_count": 3,
   "metadata": {
    "id": "pUH30a1_rOkS"
   },
   "outputs": [
    {
     "data": {
      "text/plain": [
       "'\\nassociation football, more commonly known as football or soccer,[a] is a team sport played between two teams of 11 players each, who primarily use their feet to propel a ball around a rectangular field called a pitch. the objective of the game is to score more goals than the opposing team by moving the ball beyond the goal line into a rectangular-framed goal defended by the opposing team. traditionally, the game has been played over two 45-minute halves, for a total match time of 90 minutes. with an estimated 250 million players active in over 200 countries and territories, it is the world\\'s most popular sport.\\nthe game of association football is played in accordance with the laws of the game, a set of rules that has been in effect since 1863 and maintained by the ifab since 1886. the game is played with a football that is 68–70\\xa0cm (27–28\\xa0in) in circumference. the two teams compete to get the ball into the other team\\'s goal (between the posts and under the bar), thereby scoring a goal. when the ball is in play, the players mainly use their feet, but may use any other part of their body, except for their hands or arms, to control, strike, or pass the ball. only the goalkeepers may use their hands and arms, and only then within the penalty area. the team that has scored more goals at the end of the game is the winner. depending on the format of the competition, an equal number of goals scored may result in a draw being declared, or the game goes into extra time or a penalty shoot-out.[5]\\ninternationally, association football is governed by fifa. under fifa, there are six continental confederations: afc, caf, concacaf, conmebol, ofc and uefa. of these confederations, conmebol is the oldest one, being founded in 1916. national associations (e.g. the fa or jfa) are responsible for managing the game in their own countries both professionally and at an amateur level, and coordinating competitions in accordance with the laws of the game. the most senior and prestigious international competitions are the fifa world cup and the fifa women\\'s world cup. the men\\'s world cup is the most-viewed sporting event in the world, surpassing the olympic games.[6] the two most prestigious competitions in european club football are the uefa champions league and the uefa women\\'s champions league, which attract an extensive television audience throughout the world. since 2009, the final of the men\\'s tournament has been the most-watched annual sporting event in the world.[7]\\n\\nassociation football is one of a family of football codes that emerged from various ball games played worldwide since antiquity. within the english-speaking world, the sport is now usually called \"football\" in great britain and most of ulster in the north of ireland, whereas people usually call it \"soccer\" in regions and countries where other codes of football are prevalent, such as australia,[8] canada, south africa, most of ireland (excluding ulster),[9] and the united states; in japan, the game is also primarily called sakkā (サッカー), derived from \"soccer\". a notable exception is new zealand, where in the first two decades of the 21st century, under the influence of international television, \"football\" has been gaining prevalence, despite the dominance of other codes of football, namely rugby union and rugby league.[10]\\nthe term soccer comes from oxford \"-er\" slang, which was prevalent at the university of oxford in england from about 1875, and is thought to have been borrowed from the slang of rugby school. initially spelt assoccer, it was later reduced to the modern spelling.[11] this form of slang also gave rise to rugger for rugby football, fiver and tenner for five pound and ten pound notes, and the now-archaic footer that was also a name for association football.[12] the word soccer arrived at its current form in 1895 and was first recorded in 1889 in the earlier form of socca.[13]\\nkicking ball games arose independently multiple times across multiple cultures.[b] phaininda and episkyros were greek ball games.[15][16] an image of an episkyros player depicted in low relief on a stele of c.\\u2009375–400 bce in the national archaeological museum of athens[14] appears on the uefa european championship trophy.[17] athenaeus, writing in 228 ce, mentions the roman ball game harpastum. phaininda, episkyros and harpastum were played involving hands and violence. they all appear to have resembled rugby football, wrestling and volleyball more than what is recognisable as modern football.[18][19][20][21][22][23] as with pre-codified mob football, the antecedent of all modern football codes, these three games involved more handling the ball than kicking it.[24][25]\\nthe chinese competitive game cuju (蹴鞠, literally \"kick ball\"; also known as tsu chu) resembles modern association football.[26] cuju players could use any part of the body apart from hands and the intent was to kick a ball through an opening into a net. during the han dynasty (206 bce – 220 ce), cuju games were standardised and rules were established.[18] other east asian games included kemari in japan and chuk-guk in korea, both influenced by cuju.[27][28] kemari originated after the year 600 during the asuka period. it was a ceremonial rather than a competitive game, and involved the kicking of a mari, a ball made of animal skin.[29] in north america, pasuckuakohowog was a ball game played by the algonquians; it was described as \"almost identical to the kind of folk football being played in europe at the same time, in which the ball was kicked through goals\".[30]\\nassociation football in itself does not have a classical history.[17] notwithstanding any similarities to other ball games played around the world, fifa has described that no historical connection exists with any game played in antiquity outside europe.[31] the history of football in england dates back to at least the eighth century.[32] the modern rules of association football are based on the mid-19th century efforts to standardise the widely varying forms of football played in the public schools of england.\\nthe cambridge rules, first drawn up at the university of cambridge in 1848, were particularly influential in the development of subsequent codes, including association football. the cambridge rules were written at trinity college, cambridge, at a meeting attended by representatives from eton, harrow, rugby, winchester and shrewsbury schools. they were not universally adopted. during the 1850s, many clubs unconnected to schools or universities were formed throughout the english-speaking world to play various forms of football. some came up with their own distinct codes of rules, most notably the sheffield football club, formed by former public school pupils in 1857,[33] which led to the formation of a sheffield fa in 1867. in 1862, john charles thring of uppingham school also devised an influential set of rules.[34]\\nthese ongoing efforts contributed to the formation of the football association (the fa) in 1863, which first met on the morning of 26 october 1863 at the freemasons\\' tavern in great queen street, london.[35] the only school to be represented on this occasion was charterhouse. the freemasons\\' tavern was the setting for five more meetings of the fa between october and december 1863; the english fa eventually issued the first comprehensive set of rules named laws of the game, forming modern football.[36] the laws included bans on running with the ball in hand and hacking (kicking an opponent in the shins), tripping and holding.[37] eleven clubs, under the charge of fa secretary ebenezer cobb morley, ratified the original thirteen laws of the game.[35] the sticking point was hacking, which a twelfth club at the meeting, blackheath fc, had wanted to keep, resulting in them withdrawing from the fa.[35] other english rugby clubs followed this lead and did not join the fa, and instead in 1871, along with blackheath, formed the rugby football union. the fa rules included handling of the ball by \"marks\" and the lack of a crossbar, rules which made it remarkably similar to victorian rules football being developed at that time in australia. the sheffield fa played by its own rules until the 1870s, with the fa absorbing some of its rules until there was little difference between the games.[38]\\nthe world\\'s oldest football competition is the fa cup, which was founded by the footballer and cricketer charles w. alcock, and has been contested by english teams since 1872. the first official international football match also took place in 1872, between scotland and england in glasgow, again at the instigation of alcock. england is also home to the world\\'s first football league, which was founded in birmingham in 1888 by aston villa director william mcgregor.[39] the original format contained 12 clubs from the midlands and northern england.[40]\\nlaws of the game are determined by the international football association board (ifab).[41] the board was formed in 1886[42] after a meeting in manchester of the football association, the scottish football association, the football association of wales, and the irish football association. fifa, the international football body, was formed in paris in 1904 and declared that they would adhere to the laws of the game of the football association.[43] the growing popularity of the international game led to the admittance of fifa representatives to the ifab in 1913. the board consists of four representatives from fifa and one representative from each of the four british associations.[44]\\nfor most of the 20th century, europe and south america were the dominant regions in association football. the fifa world cup, inaugurated in 1930, became the main stage for players of both continents to show their worth and the strength of their national teams.[45] in the second half of the century, the european cup and the copa libertadores were created, and the champions of these two club competitions would contest the intercontinental cup to prove which team was the best in the world.[46]\\nin the 21st century, south america has continued to produce some of the best footballers in the world,[47] but its clubs have fallen behind the still dominant european clubs, which often sign the best players from latin america and elsewhere.[45][47] meanwhile, football has improved in africa, asia and north america,[47] and nowadays, these regions are at least on equal grounds with south america in club football,[48] although countries in the caribbean and oceania regions (except australia) have yet to make a mark in international football.[49][50] when it comes to national teams, however, europeans and south americans continue to dominate the fifa world cup, as no team from any other region has managed to even reach the final.[45][47]\\nfootball is played at a professional level all over the world. millions of people regularly go to football stadiums to follow their favourite teams,[51] while billions more watch the game on television or on the internet.[52][53] a very large number of people also play football at an amateur level. according to a survey conducted by fifa published in 2001, over 240 million people from more than 200 countries regularly play football.[54] football has the highest global television audience in sport.[55]\\nin many parts of the world, football evokes great passions and plays an important role in the life of individual fans, local communities, and even nations. ryszard kapuściński says that europeans who are polite, modest, or humble fall easily into rage when playing or watching football games.[56] the ivory coast national football team helped secure a truce to the nation\\'s civil war in 2006[57] and it helped further reduce tensions between government and rebel forces in 2007 by playing a match in the rebel capital of bouaké, an occasion that brought both armies together peacefully for the first time.[58] by contrast, football is widely considered to have been the final proximate cause for the football war in june 1969 between el salvador and honduras.[59] the sport also exacerbated tensions at the beginning of the croatian war of independence of the 1990s, when a match between dinamo zagreb and red star belgrade degenerated into rioting in may 1990.[60]\\nwomen\\'s association football has historically seen opposition, with national associations severely curbing its development and several outlawing it completely. women may have been playing football for as long as the game has existed. evidence shows that a similar ancient game (cuju, or tsu chu) was played by women during the han dynasty (25–220 ce), as female figures are depicted in frescoes of the period playing tsu chu.[61][62] there are also reports of annual football matches played by women in midlothian, scotland, during the 1790s.[63][64]\\nassociation football, the modern game, has documented early involvement of women.[64] in 1863, football governing bodies introduced standardised rules to prohibit violence on the pitch, making it more socially acceptable for women to play.[65] the first match recorded by the scottish football association took place in 1892 in glasgow.[63] in england, the first recorded game of football between women took place in 1895.[65] women\\'s football has traditionally been associated with charity games and physical exercise, particularly in the united kingdom.[66]\\nassociation football continued to be played by women since the time of the first recorded women\\'s games in the late 19th century.[66][67] the best-documented early european team was founded by activist nettie honeyball in england in 1894. it was named the british ladies\\' football club. honeyball is quoted as, \"i founded the association late last year [1894], with the fixed resolve of proving to the world that women are not the \\'ornamental and useless\\' creatures men have pictured. i must confess, my convictions on all matters where the sexes are so widely divided are all on the side of emancipation, and i look forward to the time when ladies may sit in parliament and have a voice in the direction of affairs, especially those which concern them most.\"[68] honeyball and those like her paved the way for women\\'s football. however, the women\\'s game was frowned upon by the british football associations and continued without their support. it has been suggested that this was motivated by a perceived threat to the \"masculinity\" of the game.[69]\\nwomen\\'s football became popular on a large scale at the time of the first world war, when female employment in heavy industry spurred the growth of the game, much as it had done for men 50 years earlier. the most successful team of the era was dick, kerr ladies f.c. of preston, england. the team played in one of the first women\\'s international matches against a french xi team in 1920,[70][71] and also made up most of the england team against a scottish ladies xi in the same year, winning 22–0.[63]\\ndespite being more popular than some men\\'s football events, with one match seeing a 53,000 strong crowd in 1920,[72][73] women\\'s football in england suffered a blow in 1921 when the football association outlawed the playing of the game on association members\\' pitches,[74] stating that \"the game of football is quite unsuitable for females and should not be encouraged.\"[75] players and football writers have argued that this ban was, in fact, due to envy of the large crowds that women\\'s matches attracted,[73] and because the fa had no control over the money made from the women\\'s game.[75] the fa ban led to the formation of the short-lived english ladies football association and play moved to rugby grounds.[76] women\\'s football also faced bans in several other countries, notably in brazil from 1941 to 1979,[77] in france from 1941 to 1970,[78] and in germany from 1955 to 1970.[79]\\nrestrictions began to be reduced in the 1960s and 1970s. the italian women\\'s football league was established in 1968.[80] in december 1969, the women\\'s football association was formed in england,[66][81] with the sport eventually becoming the most prominent team sport for women in the united kingdom.[66] two unofficial women\\'s world cups were organised by the fieff in 1970 and in 1971.  also in 1971, union of european football associations (uefa) members voted to officially recognise women\\'s football,[66] while the football association rescinded the ban that prohibited women from playing on association members\\' pitches in england.[81]\\nwomen\\'s football still faces many struggles, but its worldwide growth[82] has seen major competitions being launched at both the national and international levels, mirroring the men\\'s competitions. the fifa women\\'s world cup was inaugurated in 1991: the first tournament was held in china, featuring 12 teams from the respective six confederations.  the world cup has been held every four years since;[83] by the 2019 fifa women\\'s world cup in france, it had expanded to 24 national teams, and 1.12 billion viewers watched the competition.[84] women\\'s football has been an olympic event since 1996.[85]\\nnorth america is the dominant region in women\\'s football, with the united states winning most fifa women\\'s world cups and olympic tournaments. europe and asia come second and third in terms of international success,[86][87] and the women\\'s game has been improving in south america.[88]\\nassociation football is played in accordance with a set of rules known as the laws of the game. the game is played using a spherical ball of 68–70\\xa0cm (27–28\\xa0in) circumference,[89] known as the football (or soccer ball). two teams of eleven players each compete to get the ball into the other team\\'s goal (between the posts and under the bar), thereby scoring a goal. the team that has scored more goals at the end of the game is the winner; if both teams have scored an equal number of goals then the game is a draw. each team is led by a captain who has only one official responsibility as mandated by the laws of the game: to represent their team in the coin toss before kick-off or penalty kicks.[5]\\nthe primary law is that players other than goalkeepers may not deliberately handle the ball with their hands or arms during play, though they must use both their hands during a throw-in restart. although players usually use their feet to move the ball around, they may use any part of their body (notably, \"heading\" with the forehead)[90] other than their hands or arms.[91] within normal play, all players are free to play the ball in any direction and move throughout the pitch, though players may not pass to teammates who are in an offside position.[92]\\nduring gameplay, players attempt to create goal-scoring opportunities through individual control of the ball, such as by dribbling, passing the ball to a teammate, and by taking shots at the goal, which is guarded by the opposing goalkeeper. opposing players may try to regain control of the ball by intercepting a pass or through tackling the opponent in possession of the ball; however, physical contact between opponents is restricted. football is generally a free-flowing game, with play stopping only when the ball has left the field of play or when play is stopped by the referee for an infringement of the rules. after a stoppage, play recommences with a specified restart.[93]\\nat a professional level, most matches produce only a few goals. for example, the 2005–06 season of the english premier league produced an average of 2.48 goals per match.[94] the laws of the game do not specify any player positions other than goalkeeper,[95] but a number of specialised roles have evolved.[96] broadly, these include three main categories: strikers, or forwards, whose main task is to score goals; defenders, who specialise in preventing their opponents from scoring; and midfielders, who dispossess the opposition and keep possession of the ball to pass it to the forwards on their team. players in these positions are referred to as outfield players, to distinguish them from the goalkeeper.\\nthese positions are further subdivided according to the area of the field in which the player spends the most time. for example, there are central defenders and left and right midfielders. the ten outfield players may be arranged in any combination. the number of players in each position determines the style of the team\\'s play; more forwards and fewer defenders creates a more aggressive and offensive-minded game, while the reverse creates a slower, more defensive style of play. while players typically spend most of the game in a specific position, there are few restrictions on player movement, and players can switch positions at any time.[97] the layout of a team\\'s players is known as a formation. defining the team\\'s formation and tactics is usually the prerogative of the team\\'s manager.[98]\\nthere are 17 laws in the official laws of the game, each containing a collection of stipulations and guidelines. the same laws are designed to apply to all levels of football for both sexes, although certain modifications for groups such as juniors, seniors and people with physical disabilities are permitted.[c] the laws are often framed in broad terms, which allow flexibility in their application depending on the nature of the game. the laws of the game are published by fifa, but are maintained by the ifab.[99] in addition to the seventeen laws, numerous ifab decisions and other directives contribute to the regulation of association football.[100][101] within the united states, major league soccer used a distinct ruleset during the 1990s[102] and the national federation of state high school associations and national collegiate athletic association still use rulesets that are comparable to, but different from, the ifab laws.\\neach team consists of a maximum of eleven players (excluding substitutes), one of whom must be the goalkeeper. competition rules may state a minimum number of players required to constitute a team, which is usually seven. goalkeepers are the only players allowed to play the ball with their hands or arms, provided they do so within the penalty area in front of their own goal. though there are a variety of positions in which the outfield (non-goalkeeper) players are strategically placed by a coach, these positions are not defined or required by the laws.[95]\\nthe basic equipment or kit players are required to wear includes a shirt, shorts, socks, footwear and adequate shin guards. an athletic supporter and protective cup is highly recommended for male players by medical experts and professionals.[103][104] headgear is not a required piece of basic equipment, but players today may choose to wear it to protect themselves from head injury.[105] players are forbidden to wear or use anything that is dangerous to themselves or another player, such as jewellery or watches. the goalkeeper must wear clothing that is easily distinguishable from that worn by the other players and the match officials.[106]\\na number of players may be replaced by substitutes during the course of the game. the maximum number of substitutions permitted in most competitive international and domestic league games is five in 90 minutes,[107] with each team being allowed one more if the game should go into extra-time; the permitted number may vary in other competitions or in friendly matches. common reasons for a substitution include injury, tiredness, ineffectiveness, a tactical switch, or timewasting at the end of a finely poised game. in standard adult matches, a player who has been substituted may not take further part in a match.[108] ifab recommends \"that a match should not continue if there are fewer than seven players in either team\". any decision regarding points awarded for abandoned games is left to the individual football associations.[109]\\n\\na game is officiated by a referee, who has \"full authority to enforce the laws of the game in connection with the match to which he has been appointed\" (law 5), and whose decisions are final. the referee is assisted by two assistant referees. in many high-level games there is also a fourth official who assists the referee and may replace another official should the need arise.[110]\\ngoal line technology is used to measure if the whole ball has crossed the goal-line thereby determining whether a goal has been scored or not; this was brought in to prevent controversy. video assistant referees (var) have also been increasingly introduced in high-level matches to assist officials through video replays to correct clear and obvious mistakes. there are four types of calls that can be reviewed: mistaken identity in awarding a red or yellow card, goals and whether there was a violation during the buildup, direct red card decisions, and penalty decisions.[111]\\nthe ball is spherical with a circumference of between 68 and 70\\xa0cm (27 and 28\\xa0in), a weight in the range of 410 to 450\\xa0g (14 to 16\\xa0oz), and a pressure between 0.6 and 1.1 standard atmospheres (8.5 and 15.6 pounds per square inch) at sea level. in the past the ball was made up of leather panels sewn together, with a latex bladder for pressurisation, but modern balls at all levels of the game are now synthetic.[112][113]\\nas the laws were formulated in england, and were initially administered solely by the four british football associations within ifab, the standard dimensions of a football pitch were originally expressed in imperial units. the laws now express dimensions with approximate metric equivalents (followed by traditional units in brackets), though use of imperial units remains popular in english-speaking countries with a relatively recent history of metrication (or only partial metrication), such as britain.[114]\\nthe length of the pitch, or field, for international adult matches is in the range of 100–110\\xa0m (110–120\\xa0yd) and the width is in the range of 64–75\\xa0m (70–80\\xa0yd). fields for non-international matches may be 90–120\\xa0m (100–130\\xa0yd) in length and 45–90\\xa0m (50–100\\xa0yd) in width, provided the pitch does not become square. in 2008, the ifab initially approved a fixed size of 105\\xa0m (115\\xa0yd) long and 68\\xa0m (74\\xa0yd) wide as a standard pitch dimension for international matches;[115] however, this decision was later put on hold and was never actually implemented.[116]\\nthe longer boundary lines are touchlines, while the shorter boundaries (on which the goals are placed) are goal lines. a rectangular goal is positioned on each goal line, midway between the two touchlines.[117] the inner edges of the vertical goal posts must be 7.32\\xa0m (24\\xa0ft) apart, and the lower edge of the horizontal crossbar supported by the goal posts must be 2.44\\xa0m (8\\xa0ft) above the ground. nets are usually placed behind the goal, but are not required by the laws.[118]\\nin front of the goal is the penalty area. this area is marked by the goal line, two lines starting on the goal line 16.5\\xa0m (18\\xa0yd) from the goalposts and extending 16.5\\xa0m (18\\xa0yd) into the pitch perpendicular to the goal line, and a line joining them. this area has a number of functions, the most prominent being to mark where the goalkeeper may handle the ball and where a penalty foul by a member of the defending team becomes punishable by a penalty kick. other markings define the position of the ball or players at kick-offs, goal kicks, penalty kicks and corner kicks.[119]\\na standard adult football match consists of two halves of 45 minutes each. each half runs continuously, meaning that the clock is not stopped when the ball is out of play. there is usually a 15-minute half-time break between halves. the end of the match is known as full-time.[120] the referee is the official timekeeper for the match, and may make an allowance for time lost through substitutions, injured players requiring attention, or other stoppages. this added time is called \"additional time\" in fifa documents,[121][122] but is most commonly referred to as stoppage time or injury time, while lost time can also be used as a synonym. the duration of stoppage time is at the sole discretion of the referee. stoppage time does not fully compensate for the time in which the ball is out of play, and a 90-minute game typically involves about an hour of \"effective playing time\".[123][124] the referee alone signals the end of the match. in matches where a fourth official is appointed, towards the end of the half, the referee signals how many minutes of stoppage time they intend to add. the fourth official then informs the players and spectators by holding up a board showing this number. the signalled stoppage time may be further extended by the referee.[120] added time was introduced because of an incident which happened in 1891 during a match between stoke and aston villa. trailing 1–0 with two minutes remaining, stoke were awarded a penalty kick. villa\\'s goalkeeper deliberately kicked the ball out of play; by the time it was recovered, the clock had run out and the game was over, leaving stoke unable to attempt the penalty.[125] the same law also states that the duration of either half is extended until the penalty kick to be taken or retaken is completed; thus, no game can end with an uncompleted penalty.[126]\\nin league competitions, games may end in a draw. in knockout competitions where a winner is required, various methods may be employed to break such a deadlock; some competitions may invoke replays.[127] a game tied at the end of regulation time may go into extra time, which consists of two further 15-minute periods. if the score is still tied after extra time, some competitions allow the use of penalty shoot-outs (known officially in the laws of the game as \"kicks from the penalty mark\") to determine which team will progress to the next stage of the tournament or be the champion. goals scored during extra time periods count towards the final score of the game, but kicks from the penalty mark are only used to decide the team that progresses to the next part of the tournament, with goals scored in a penalty shoot-out not making up part of the final score.[5]\\nin competitions using two-legged matches, each team competes at home once, with an aggregate score from the two matches deciding which team progresses. where aggregates are equal, the away goals rule may be used to determine the winners, in which case the winner is the team that scored the most goals in the leg they played away from home. if the result is still equal, extra time and potentially a penalty shoot-out are required.[5]\\nunder the laws, the two basic states of play during a game are ball in play and ball out of play. from the beginning of each playing period with a kick-off until the end of the playing period, the ball is in play at all times, except when either the ball leaves the field of play, or play is stopped by the referee. when the ball becomes out of play, play is restarted by one of eight restart methods depending on how it went out of play:\\na foul occurs when a player commits an offence listed in the laws of the game while the ball is in play. the offences that constitute a foul are listed in law 12. handling the ball deliberately, tripping an opponent, or pushing an opponent, are examples of \"penal fouls\", punishable by a direct free kick or penalty kick depending on where the offence occurred. other fouls are punishable by an indirect free kick.[91]\\nthe referee may punish a player\\'s or substitute\\'s misconduct by a caution (yellow card) or dismissal (red card). a second yellow card in the same game leads to a red card, which results in a dismissal. a player given a yellow card is said to have been \"booked\", the referee writing the player\\'s name in their official notebook. if a player has been dismissed, no substitute can be brought on in their place and the player may not participate in further play. misconduct may occur at any time, and while the offences that constitute misconduct are listed, the definitions are broad. in particular, the offence of \"unsporting behaviour\" may be used to deal with most events that violate the spirit of the game, even if they are not listed as specific offences. a referee can show a yellow or red card to a player, substitute, substituted player, and to non-players such as managers and support staff.[91][133]\\nrather than stopping play, the referee may allow play to continue if doing so will benefit the team against which an offence has been committed. this is known as \"playing an advantage\".[134] the referee may \"call back\" play and penalise the original offence if the anticipated advantage does not ensue within \"a few seconds\". even if an offence is not penalised due to advantage being played, the offender may still be sanctioned for misconduct at the next stoppage of play.[135]\\nthe referee\\'s decision in all on-pitch matters is considered final.[136] the score of a match cannot be altered after the game, even if later evidence shows that decisions (including awards/non-awards of goals) were incorrect.\\nalong with the general administration of the sport, football associations and competition organisers also enforce good conduct in wider aspects of the game, dealing with issues such as comments to the press, clubs\\' financial management, doping, age fraud and match fixing. most competitions enforce mandatory suspensions for players who are sent off in a game.[137] some on-field incidents, if considered very serious (such as allegations of racial abuse), may result in competitions deciding to impose heavier sanctions than those normally associated with a red card.[d] some associations allow for appeals against player suspensions incurred on-field if clubs feel a referee was incorrect or unduly harsh.[137]\\nsanctions for such infractions may be levied on individuals or on clubs as a whole. penalties may include fines, point deductions (in league competitions) or even expulsion from competitions. for example, the english football league deduct 12 points from any team that enters financial administration.[138] among other administrative sanctions are penalties against game forfeiture. teams that had forfeited a game or had been forfeited against would be awarded a technical loss or win.\\nthe recognised international governing body of football (and associated games, such as futsal and beach soccer)[c] is fifa. the fifa headquarters are located in zürich, switzerland. six regional confederations are associated with fifa; these are:[139]\\nnational associations (or national federations) oversee football within individual countries. these are generally synonymous with sovereign states (for example, the cameroonian football federation in cameroon), but also include a smaller number of associations responsible for sub-national entities or autonomous regions (for example, the scottish football association in scotland). 211 national associations are affiliated both with fifa and with their respective continental confederations.[139] other national associations may be members of continental confederations but otherwise not participate in fifa competitions.[140]\\nwhile fifa is responsible for arranging competitions and most rules related to international competition, the actual laws of the game are set by the ifab, where each of the uk associations has one vote, while fifa collectively has four votes.[44]\\n\\ninternational competitions in association football principally consist of two varieties: competitions involving representative national teams or those involving clubs based in multiple nations and national leagues. international football, without qualification, most often refers to the former. in the case of international club competition, it is the country of origin of the clubs involved, not the nationalities of their players, that renders the competition international in nature.\\nthe major international competition in football is the world cup, organised by fifa. this competition has taken place every four years since 1930, with the exception of the 1942 and 1946 tournaments, which were cancelled because of world war ii. as of 2022, over 200 national teams compete in qualifying tournaments within the scope of continental confederations for a place in the finals.[141] the finals tournament, held every four years, involved 32 national teams (expanding to 48 teams for the 2026 tournament) competing over a four-week period.[142][e] the world cup is the most prestigious association football tournament as well as the most widely viewed and followed sporting event in the world, exceeding even the olympic games; the cumulative audience of all matches of the 2006 fifa world cup was estimated to be 26.29 billion with an estimated 715.1 million people watching the final match, one-ninth of the entire population of the planet.[143][144][145][146] the 1958 world cup saw the emergence of pelé as a global sporting star, a period that coincided with \"the explosive spread of television, which massively amplified his presence everywhere\".[147] the current champions are argentina, who won their third title at the 2022 tournament in qatar.[148] the fifa women\\'s world cup has been held every four years since 1991. under the tournament\\'s current format that was expanded in 2023, national teams vie for 31 slots in a three-year qualification phase, while the host nation\\'s team enters automatically as the 32nd slot.[149] the current champions are spain, after winning their first title in the 2023 tournament.[150]\\nthere has been a football tournament at every summer olympic games since 1900, except at the 1932 games in los angeles.[151] before the inception of the world cup, the olympics (especially during the 1920s) were the most prestigious international event. originally, the tournament was for amateurs only.[43] as professionalism spread around the world, the gap in quality between the world cup and the olympics widened. the countries that benefited most were the soviet bloc countries of eastern europe, where top athletes were state-sponsored while retaining their status as amateurs. between 1948 and 1980, 23 out of 27 olympic medals were won by eastern europe, with only sweden (gold in 1948 and bronze in 1952), denmark (bronze in 1948 and silver in 1960) and japan (bronze in 1968) breaking their dominance. for the 1984 los angeles games, the ioc allowed professional players to compete. since 1992, male competitors must be under 23 years old, although since 1996, three players over the age of 23 have been allowed per squad.[152] a women\\'s tournament was added in 1996; in contrast to the men\\'s event, full international sides without age restrictions play the women\\'s olympic tournament.[153]\\nafter the world cup, the most important international football competitions are the continental championships, which are organised by each continental confederation and contested between national teams. these are the european championship (uefa), the copa américa (conmebol), the african cup of nations (caf), the asian cup (afc), the concacaf gold cup (concacaf) and the ofc nations cup (ofc).[154] these competitions are not strictly limited to members of the continental confederations, with guest teams from other continents sometimes invited to compete.[155] the fifa confederations cup was contested by the winners of all six continental championships, the current fifa world cup champions, and the country which was hosting the next world cup. this was generally regarded as a warm-up tournament for the upcoming fifa world cup and did not carry the same prestige as the world cup itself.[154] the tournament was discontinued following the 2017 edition with its calendar slot replaced by an expanded fifa club world cup.[156] the uefa nations league and the concacaf nations league were introduced in the late 2010s to replace international friendlies during the two-year cycle between major tournaments.[157]\\nthe most prestigious competitions in club football are the respective continental championships, which are generally contested between national champions, for example, the uefa champions league in europe and the copa libertadores in south america. the winners of each continental competition contest the fifa club world cup.[158]\\nthe governing bodies in each country operate league systems in a domestic season, normally comprising several divisions, in which the teams gain points throughout the season depending on results. teams are placed into tables, placing them in order according to points accrued. most commonly, each team plays every other team in its league at home and away in each season, in a round-robin tournament. at the end of a season, the top team is declared the champion. the top few teams may be promoted to a higher division, and one or more of the teams finishing at the bottom are relegated to a lower division.[160]\\nthe teams finishing at the top of a country\\'s league may also be eligible to play in international club competitions in the following season. the main exceptions to this system occur in some latin american leagues, which divide football championships into two sections named apertura and clausura (spanish for opening and closing), awarding a champion for each.[161] the majority of countries supplement the league system with one or more \"cup\" competitions organised on a knock-out basis.[citation needed] these also include the domestic cup, which may be open to all eligible teams in a country\\'s league system—both professional and amateur—and is organised by the national federation.[162]\\nsome countries\\' top divisions feature highly paid star players; in smaller countries, lower divisions, and many women\\'s clubs, players may be part-timers with a second job, or amateurs.[citation needed] the five top european leagues – premier league (england),[163] bundesliga (germany), la liga (spain), serie a (italy), and ligue 1 (france) – attract most of the world\\'s best players and, during the 2006–07 season, each of these leagues had a total wage cost in excess of €600 million.[164][needs update] these leagues also generated a combined €17.2\\xa0billion in revenue in the 2021–22 season from television contracts, matchday tickets, sponsorships, and other sources.[165]\\n'"
      ]
     },
     "execution_count": 3,
     "metadata": {},
     "output_type": "execute_result"
    }
   ],
   "source": [
    "# Demos un vistazo\n",
    "article_text"
   ]
  },
  {
   "cell_type": "code",
   "execution_count": 4,
   "metadata": {
    "id": "BtGLJjt6rQhK"
   },
   "outputs": [
    {
     "name": "stdout",
     "output_type": "stream",
     "text": [
      "Cantidad de caracteres en la nota: 42127\n"
     ]
    }
   ],
   "source": [
    "print(\"Cantidad de caracteres en la nota:\", len(article_text))"
   ]
  },
  {
   "cell_type": "markdown",
   "metadata": {
    "id": "FVHxBRNzCMOS"
   },
   "source": [
    "### 2 - Preprocesamiento\n",
    "- Remover caracteres especiales\n",
    "- Quitar espacios o saltos"
   ]
  },
  {
   "cell_type": "code",
   "execution_count": 5,
   "metadata": {
    "id": "HnEUTD1Erl1N"
   },
   "outputs": [],
   "source": [
    "# Repaso de regex:\n",
    "# https://docs.python.org/3/library/re.html\n",
    "\n",
    "# Para practicar regex:\n",
    "# https://regex101.com/\n",
    "\n",
    "# el inicio con 'r' antes de cada string indica que se interprete como raw string\n",
    "# '\\n' es interpretado por Python como salto de linea\n",
    "# r'\\n' es interpretado por Python como el string formado por dos caracteres: \n",
    "#  backslash y n\n",
    "\n",
    "# substituir con regex con espacio vacío:\n",
    "text = re.sub(r'\\[[0-9]*\\]', ' ', article_text) # substituir los números entre corchetes\n",
    "text = re.sub(r'\\[[a-z]*\\]', ' ', article_text) # substituir las referencias alfabeticas entre corchetes\n",
    "\n",
    "# (notar que los corchetes son interpretados literalmente por los backlsash)\n",
    "text = re.sub(r'\\s+', ' ', text) # substituir más de un caracter de espacio, salto de línea o tabulación\n",
    "\n",
    "# probar en regex101 con los patrones anteriores:\n",
    "# 'Hola [1], [], [ estoy bien   [123]. [12sss]. OK!   .'"
   ]
  },
  {
   "cell_type": "code",
   "execution_count": 6,
   "metadata": {
    "id": "g7ycrAMYrn66"
   },
   "outputs": [
    {
     "data": {
      "text/plain": [
       "' association football, more commonly known as football or soccer, is a team sport played between two teams of 11 players each, who primarily use their feet to propel a ball around a rectangular field called a pitch. the objective of the game is to score more goals than the opposing team by moving the ball beyond the goal line into a rectangular-framed goal defended by the opposing team. traditionally, the game has been played over two 45-minute halves, for a total match time of 90 minutes. with an estimated 250 million players active in over 200 countries and territories, it is the world\\'s most popular sport. the game of association football is played in accordance with the laws of the game, a set of rules that has been in effect since 1863 and maintained by the ifab since 1886. the game is played with a football that is 68–70 cm (27–28 in) in circumference. the two teams compete to get the ball into the other team\\'s goal (between the posts and under the bar), thereby scoring a goal. when the ball is in play, the players mainly use their feet, but may use any other part of their body, except for their hands or arms, to control, strike, or pass the ball. only the goalkeepers may use their hands and arms, and only then within the penalty area. the team that has scored more goals at the end of the game is the winner. depending on the format of the competition, an equal number of goals scored may result in a draw being declared, or the game goes into extra time or a penalty shoot-out.[5] internationally, association football is governed by fifa. under fifa, there are six continental confederations: afc, caf, concacaf, conmebol, ofc and uefa. of these confederations, conmebol is the oldest one, being founded in 1916. national associations (e.g. the fa or jfa) are responsible for managing the game in their own countries both professionally and at an amateur level, and coordinating competitions in accordance with the laws of the game. the most senior and prestigious international competitions are the fifa world cup and the fifa women\\'s world cup. the men\\'s world cup is the most-viewed sporting event in the world, surpassing the olympic games.[6] the two most prestigious competitions in european club football are the uefa champions league and the uefa women\\'s champions league, which attract an extensive television audience throughout the world. since 2009, the final of the men\\'s tournament has been the most-watched annual sporting event in the world.[7] association football is one of a family of football codes that emerged from various ball games played worldwide since antiquity. within the english-speaking world, the sport is now usually called \"football\" in great britain and most of ulster in the north of ireland, whereas people usually call it \"soccer\" in regions and countries where other codes of football are prevalent, such as australia,[8] canada, south africa, most of ireland (excluding ulster),[9] and the united states; in japan, the game is also primarily called sakkā (サッカー), derived from \"soccer\". a notable exception is new zealand, where in the first two decades of the 21st century, under the influence of international television, \"football\" has been gaining prevalence, despite the dominance of other codes of football, namely rugby union and rugby league.[10] the term soccer comes from oxford \"-er\" slang, which was prevalent at the university of oxford in england from about 1875, and is thought to have been borrowed from the slang of rugby school. initially spelt assoccer, it was later reduced to the modern spelling.[11] this form of slang also gave rise to rugger for rugby football, fiver and tenner for five pound and ten pound notes, and the now-archaic footer that was also a name for association football.[12] the word soccer arrived at its current form in 1895 and was first recorded in 1889 in the earlier form of socca.[13] kicking ball games arose independently multiple times across multiple cultures. phaininda and episkyros were greek ball games.[15][16] an image of an episkyros player depicted in low relief on a stele of c. 375–400 bce in the national archaeological museum of athens[14] appears on the uefa european championship trophy.[17] athenaeus, writing in 228 ce, mentions the roman ball game harpastum. phaininda, episkyros and harpastum were played involving hands and violence. they all appear to have resembled rugby football, wrestling and volleyball more than what is recognisable as modern football.[18][19][20][21][22][23] as with pre-codified mob football, the antecedent of all modern football codes, these three games involved more handling the ball than kicking it.[24][25] the chinese competitive game cuju (蹴鞠, literally \"kick ball\"; also known as tsu chu) resembles modern association football.[26] cuju players could use any part of the body apart from hands and the intent was to kick a ball through an opening into a net. during the han dynasty (206 bce – 220 ce), cuju games were standardised and rules were established.[18] other east asian games included kemari in japan and chuk-guk in korea, both influenced by cuju.[27][28] kemari originated after the year 600 during the asuka period. it was a ceremonial rather than a competitive game, and involved the kicking of a mari, a ball made of animal skin.[29] in north america, pasuckuakohowog was a ball game played by the algonquians; it was described as \"almost identical to the kind of folk football being played in europe at the same time, in which the ball was kicked through goals\".[30] association football in itself does not have a classical history.[17] notwithstanding any similarities to other ball games played around the world, fifa has described that no historical connection exists with any game played in antiquity outside europe.[31] the history of football in england dates back to at least the eighth century.[32] the modern rules of association football are based on the mid-19th century efforts to standardise the widely varying forms of football played in the public schools of england. the cambridge rules, first drawn up at the university of cambridge in 1848, were particularly influential in the development of subsequent codes, including association football. the cambridge rules were written at trinity college, cambridge, at a meeting attended by representatives from eton, harrow, rugby, winchester and shrewsbury schools. they were not universally adopted. during the 1850s, many clubs unconnected to schools or universities were formed throughout the english-speaking world to play various forms of football. some came up with their own distinct codes of rules, most notably the sheffield football club, formed by former public school pupils in 1857,[33] which led to the formation of a sheffield fa in 1867. in 1862, john charles thring of uppingham school also devised an influential set of rules.[34] these ongoing efforts contributed to the formation of the football association (the fa) in 1863, which first met on the morning of 26 october 1863 at the freemasons\\' tavern in great queen street, london.[35] the only school to be represented on this occasion was charterhouse. the freemasons\\' tavern was the setting for five more meetings of the fa between october and december 1863; the english fa eventually issued the first comprehensive set of rules named laws of the game, forming modern football.[36] the laws included bans on running with the ball in hand and hacking (kicking an opponent in the shins), tripping and holding.[37] eleven clubs, under the charge of fa secretary ebenezer cobb morley, ratified the original thirteen laws of the game.[35] the sticking point was hacking, which a twelfth club at the meeting, blackheath fc, had wanted to keep, resulting in them withdrawing from the fa.[35] other english rugby clubs followed this lead and did not join the fa, and instead in 1871, along with blackheath, formed the rugby football union. the fa rules included handling of the ball by \"marks\" and the lack of a crossbar, rules which made it remarkably similar to victorian rules football being developed at that time in australia. the sheffield fa played by its own rules until the 1870s, with the fa absorbing some of its rules until there was little difference between the games.[38] the world\\'s oldest football competition is the fa cup, which was founded by the footballer and cricketer charles w. alcock, and has been contested by english teams since 1872. the first official international football match also took place in 1872, between scotland and england in glasgow, again at the instigation of alcock. england is also home to the world\\'s first football league, which was founded in birmingham in 1888 by aston villa director william mcgregor.[39] the original format contained 12 clubs from the midlands and northern england.[40] laws of the game are determined by the international football association board (ifab).[41] the board was formed in 1886[42] after a meeting in manchester of the football association, the scottish football association, the football association of wales, and the irish football association. fifa, the international football body, was formed in paris in 1904 and declared that they would adhere to the laws of the game of the football association.[43] the growing popularity of the international game led to the admittance of fifa representatives to the ifab in 1913. the board consists of four representatives from fifa and one representative from each of the four british associations.[44] for most of the 20th century, europe and south america were the dominant regions in association football. the fifa world cup, inaugurated in 1930, became the main stage for players of both continents to show their worth and the strength of their national teams.[45] in the second half of the century, the european cup and the copa libertadores were created, and the champions of these two club competitions would contest the intercontinental cup to prove which team was the best in the world.[46] in the 21st century, south america has continued to produce some of the best footballers in the world,[47] but its clubs have fallen behind the still dominant european clubs, which often sign the best players from latin america and elsewhere.[45][47] meanwhile, football has improved in africa, asia and north america,[47] and nowadays, these regions are at least on equal grounds with south america in club football,[48] although countries in the caribbean and oceania regions (except australia) have yet to make a mark in international football.[49][50] when it comes to national teams, however, europeans and south americans continue to dominate the fifa world cup, as no team from any other region has managed to even reach the final.[45][47] football is played at a professional level all over the world. millions of people regularly go to football stadiums to follow their favourite teams,[51] while billions more watch the game on television or on the internet.[52][53] a very large number of people also play football at an amateur level. according to a survey conducted by fifa published in 2001, over 240 million people from more than 200 countries regularly play football.[54] football has the highest global television audience in sport.[55] in many parts of the world, football evokes great passions and plays an important role in the life of individual fans, local communities, and even nations. ryszard kapuściński says that europeans who are polite, modest, or humble fall easily into rage when playing or watching football games.[56] the ivory coast national football team helped secure a truce to the nation\\'s civil war in 2006[57] and it helped further reduce tensions between government and rebel forces in 2007 by playing a match in the rebel capital of bouaké, an occasion that brought both armies together peacefully for the first time.[58] by contrast, football is widely considered to have been the final proximate cause for the football war in june 1969 between el salvador and honduras.[59] the sport also exacerbated tensions at the beginning of the croatian war of independence of the 1990s, when a match between dinamo zagreb and red star belgrade degenerated into rioting in may 1990.[60] women\\'s association football has historically seen opposition, with national associations severely curbing its development and several outlawing it completely. women may have been playing football for as long as the game has existed. evidence shows that a similar ancient game (cuju, or tsu chu) was played by women during the han dynasty (25–220 ce), as female figures are depicted in frescoes of the period playing tsu chu.[61][62] there are also reports of annual football matches played by women in midlothian, scotland, during the 1790s.[63][64] association football, the modern game, has documented early involvement of women.[64] in 1863, football governing bodies introduced standardised rules to prohibit violence on the pitch, making it more socially acceptable for women to play.[65] the first match recorded by the scottish football association took place in 1892 in glasgow.[63] in england, the first recorded game of football between women took place in 1895.[65] women\\'s football has traditionally been associated with charity games and physical exercise, particularly in the united kingdom.[66] association football continued to be played by women since the time of the first recorded women\\'s games in the late 19th century.[66][67] the best-documented early european team was founded by activist nettie honeyball in england in 1894. it was named the british ladies\\' football club. honeyball is quoted as, \"i founded the association late last year [1894], with the fixed resolve of proving to the world that women are not the \\'ornamental and useless\\' creatures men have pictured. i must confess, my convictions on all matters where the sexes are so widely divided are all on the side of emancipation, and i look forward to the time when ladies may sit in parliament and have a voice in the direction of affairs, especially those which concern them most.\"[68] honeyball and those like her paved the way for women\\'s football. however, the women\\'s game was frowned upon by the british football associations and continued without their support. it has been suggested that this was motivated by a perceived threat to the \"masculinity\" of the game.[69] women\\'s football became popular on a large scale at the time of the first world war, when female employment in heavy industry spurred the growth of the game, much as it had done for men 50 years earlier. the most successful team of the era was dick, kerr ladies f.c. of preston, england. the team played in one of the first women\\'s international matches against a french xi team in 1920,[70][71] and also made up most of the england team against a scottish ladies xi in the same year, winning 22–0.[63] despite being more popular than some men\\'s football events, with one match seeing a 53,000 strong crowd in 1920,[72][73] women\\'s football in england suffered a blow in 1921 when the football association outlawed the playing of the game on association members\\' pitches,[74] stating that \"the game of football is quite unsuitable for females and should not be encouraged.\"[75] players and football writers have argued that this ban was, in fact, due to envy of the large crowds that women\\'s matches attracted,[73] and because the fa had no control over the money made from the women\\'s game.[75] the fa ban led to the formation of the short-lived english ladies football association and play moved to rugby grounds.[76] women\\'s football also faced bans in several other countries, notably in brazil from 1941 to 1979,[77] in france from 1941 to 1970,[78] and in germany from 1955 to 1970.[79] restrictions began to be reduced in the 1960s and 1970s. the italian women\\'s football league was established in 1968.[80] in december 1969, the women\\'s football association was formed in england,[66][81] with the sport eventually becoming the most prominent team sport for women in the united kingdom.[66] two unofficial women\\'s world cups were organised by the fieff in 1970 and in 1971. also in 1971, union of european football associations (uefa) members voted to officially recognise women\\'s football,[66] while the football association rescinded the ban that prohibited women from playing on association members\\' pitches in england.[81] women\\'s football still faces many struggles, but its worldwide growth[82] has seen major competitions being launched at both the national and international levels, mirroring the men\\'s competitions. the fifa women\\'s world cup was inaugurated in 1991: the first tournament was held in china, featuring 12 teams from the respective six confederations. the world cup has been held every four years since;[83] by the 2019 fifa women\\'s world cup in france, it had expanded to 24 national teams, and 1.12 billion viewers watched the competition.[84] women\\'s football has been an olympic event since 1996.[85] north america is the dominant region in women\\'s football, with the united states winning most fifa women\\'s world cups and olympic tournaments. europe and asia come second and third in terms of international success,[86][87] and the women\\'s game has been improving in south america.[88] association football is played in accordance with a set of rules known as the laws of the game. the game is played using a spherical ball of 68–70 cm (27–28 in) circumference,[89] known as the football (or soccer ball). two teams of eleven players each compete to get the ball into the other team\\'s goal (between the posts and under the bar), thereby scoring a goal. the team that has scored more goals at the end of the game is the winner; if both teams have scored an equal number of goals then the game is a draw. each team is led by a captain who has only one official responsibility as mandated by the laws of the game: to represent their team in the coin toss before kick-off or penalty kicks.[5] the primary law is that players other than goalkeepers may not deliberately handle the ball with their hands or arms during play, though they must use both their hands during a throw-in restart. although players usually use their feet to move the ball around, they may use any part of their body (notably, \"heading\" with the forehead)[90] other than their hands or arms.[91] within normal play, all players are free to play the ball in any direction and move throughout the pitch, though players may not pass to teammates who are in an offside position.[92] during gameplay, players attempt to create goal-scoring opportunities through individual control of the ball, such as by dribbling, passing the ball to a teammate, and by taking shots at the goal, which is guarded by the opposing goalkeeper. opposing players may try to regain control of the ball by intercepting a pass or through tackling the opponent in possession of the ball; however, physical contact between opponents is restricted. football is generally a free-flowing game, with play stopping only when the ball has left the field of play or when play is stopped by the referee for an infringement of the rules. after a stoppage, play recommences with a specified restart.[93] at a professional level, most matches produce only a few goals. for example, the 2005–06 season of the english premier league produced an average of 2.48 goals per match.[94] the laws of the game do not specify any player positions other than goalkeeper,[95] but a number of specialised roles have evolved.[96] broadly, these include three main categories: strikers, or forwards, whose main task is to score goals; defenders, who specialise in preventing their opponents from scoring; and midfielders, who dispossess the opposition and keep possession of the ball to pass it to the forwards on their team. players in these positions are referred to as outfield players, to distinguish them from the goalkeeper. these positions are further subdivided according to the area of the field in which the player spends the most time. for example, there are central defenders and left and right midfielders. the ten outfield players may be arranged in any combination. the number of players in each position determines the style of the team\\'s play; more forwards and fewer defenders creates a more aggressive and offensive-minded game, while the reverse creates a slower, more defensive style of play. while players typically spend most of the game in a specific position, there are few restrictions on player movement, and players can switch positions at any time.[97] the layout of a team\\'s players is known as a formation. defining the team\\'s formation and tactics is usually the prerogative of the team\\'s manager.[98] there are 17 laws in the official laws of the game, each containing a collection of stipulations and guidelines. the same laws are designed to apply to all levels of football for both sexes, although certain modifications for groups such as juniors, seniors and people with physical disabilities are permitted. the laws are often framed in broad terms, which allow flexibility in their application depending on the nature of the game. the laws of the game are published by fifa, but are maintained by the ifab.[99] in addition to the seventeen laws, numerous ifab decisions and other directives contribute to the regulation of association football.[100][101] within the united states, major league soccer used a distinct ruleset during the 1990s[102] and the national federation of state high school associations and national collegiate athletic association still use rulesets that are comparable to, but different from, the ifab laws. each team consists of a maximum of eleven players (excluding substitutes), one of whom must be the goalkeeper. competition rules may state a minimum number of players required to constitute a team, which is usually seven. goalkeepers are the only players allowed to play the ball with their hands or arms, provided they do so within the penalty area in front of their own goal. though there are a variety of positions in which the outfield (non-goalkeeper) players are strategically placed by a coach, these positions are not defined or required by the laws.[95] the basic equipment or kit players are required to wear includes a shirt, shorts, socks, footwear and adequate shin guards. an athletic supporter and protective cup is highly recommended for male players by medical experts and professionals.[103][104] headgear is not a required piece of basic equipment, but players today may choose to wear it to protect themselves from head injury.[105] players are forbidden to wear or use anything that is dangerous to themselves or another player, such as jewellery or watches. the goalkeeper must wear clothing that is easily distinguishable from that worn by the other players and the match officials.[106] a number of players may be replaced by substitutes during the course of the game. the maximum number of substitutions permitted in most competitive international and domestic league games is five in 90 minutes,[107] with each team being allowed one more if the game should go into extra-time; the permitted number may vary in other competitions or in friendly matches. common reasons for a substitution include injury, tiredness, ineffectiveness, a tactical switch, or timewasting at the end of a finely poised game. in standard adult matches, a player who has been substituted may not take further part in a match.[108] ifab recommends \"that a match should not continue if there are fewer than seven players in either team\". any decision regarding points awarded for abandoned games is left to the individual football associations.[109] a game is officiated by a referee, who has \"full authority to enforce the laws of the game in connection with the match to which he has been appointed\" (law 5), and whose decisions are final. the referee is assisted by two assistant referees. in many high-level games there is also a fourth official who assists the referee and may replace another official should the need arise.[110] goal line technology is used to measure if the whole ball has crossed the goal-line thereby determining whether a goal has been scored or not; this was brought in to prevent controversy. video assistant referees (var) have also been increasingly introduced in high-level matches to assist officials through video replays to correct clear and obvious mistakes. there are four types of calls that can be reviewed: mistaken identity in awarding a red or yellow card, goals and whether there was a violation during the buildup, direct red card decisions, and penalty decisions.[111] the ball is spherical with a circumference of between 68 and 70 cm (27 and 28 in), a weight in the range of 410 to 450 g (14 to 16 oz), and a pressure between 0.6 and 1.1 standard atmospheres (8.5 and 15.6 pounds per square inch) at sea level. in the past the ball was made up of leather panels sewn together, with a latex bladder for pressurisation, but modern balls at all levels of the game are now synthetic.[112][113] as the laws were formulated in england, and were initially administered solely by the four british football associations within ifab, the standard dimensions of a football pitch were originally expressed in imperial units. the laws now express dimensions with approximate metric equivalents (followed by traditional units in brackets), though use of imperial units remains popular in english-speaking countries with a relatively recent history of metrication (or only partial metrication), such as britain.[114] the length of the pitch, or field, for international adult matches is in the range of 100–110 m (110–120 yd) and the width is in the range of 64–75 m (70–80 yd). fields for non-international matches may be 90–120 m (100–130 yd) in length and 45–90 m (50–100 yd) in width, provided the pitch does not become square. in 2008, the ifab initially approved a fixed size of 105 m (115 yd) long and 68 m (74 yd) wide as a standard pitch dimension for international matches;[115] however, this decision was later put on hold and was never actually implemented.[116] the longer boundary lines are touchlines, while the shorter boundaries (on which the goals are placed) are goal lines. a rectangular goal is positioned on each goal line, midway between the two touchlines.[117] the inner edges of the vertical goal posts must be 7.32 m (24 ft) apart, and the lower edge of the horizontal crossbar supported by the goal posts must be 2.44 m (8 ft) above the ground. nets are usually placed behind the goal, but are not required by the laws.[118] in front of the goal is the penalty area. this area is marked by the goal line, two lines starting on the goal line 16.5 m (18 yd) from the goalposts and extending 16.5 m (18 yd) into the pitch perpendicular to the goal line, and a line joining them. this area has a number of functions, the most prominent being to mark where the goalkeeper may handle the ball and where a penalty foul by a member of the defending team becomes punishable by a penalty kick. other markings define the position of the ball or players at kick-offs, goal kicks, penalty kicks and corner kicks.[119] a standard adult football match consists of two halves of 45 minutes each. each half runs continuously, meaning that the clock is not stopped when the ball is out of play. there is usually a 15-minute half-time break between halves. the end of the match is known as full-time.[120] the referee is the official timekeeper for the match, and may make an allowance for time lost through substitutions, injured players requiring attention, or other stoppages. this added time is called \"additional time\" in fifa documents,[121][122] but is most commonly referred to as stoppage time or injury time, while lost time can also be used as a synonym. the duration of stoppage time is at the sole discretion of the referee. stoppage time does not fully compensate for the time in which the ball is out of play, and a 90-minute game typically involves about an hour of \"effective playing time\".[123][124] the referee alone signals the end of the match. in matches where a fourth official is appointed, towards the end of the half, the referee signals how many minutes of stoppage time they intend to add. the fourth official then informs the players and spectators by holding up a board showing this number. the signalled stoppage time may be further extended by the referee.[120] added time was introduced because of an incident which happened in 1891 during a match between stoke and aston villa. trailing 1–0 with two minutes remaining, stoke were awarded a penalty kick. villa\\'s goalkeeper deliberately kicked the ball out of play; by the time it was recovered, the clock had run out and the game was over, leaving stoke unable to attempt the penalty.[125] the same law also states that the duration of either half is extended until the penalty kick to be taken or retaken is completed; thus, no game can end with an uncompleted penalty.[126] in league competitions, games may end in a draw. in knockout competitions where a winner is required, various methods may be employed to break such a deadlock; some competitions may invoke replays.[127] a game tied at the end of regulation time may go into extra time, which consists of two further 15-minute periods. if the score is still tied after extra time, some competitions allow the use of penalty shoot-outs (known officially in the laws of the game as \"kicks from the penalty mark\") to determine which team will progress to the next stage of the tournament or be the champion. goals scored during extra time periods count towards the final score of the game, but kicks from the penalty mark are only used to decide the team that progresses to the next part of the tournament, with goals scored in a penalty shoot-out not making up part of the final score.[5] in competitions using two-legged matches, each team competes at home once, with an aggregate score from the two matches deciding which team progresses. where aggregates are equal, the away goals rule may be used to determine the winners, in which case the winner is the team that scored the most goals in the leg they played away from home. if the result is still equal, extra time and potentially a penalty shoot-out are required.[5] under the laws, the two basic states of play during a game are ball in play and ball out of play. from the beginning of each playing period with a kick-off until the end of the playing period, the ball is in play at all times, except when either the ball leaves the field of play, or play is stopped by the referee. when the ball becomes out of play, play is restarted by one of eight restart methods depending on how it went out of play: a foul occurs when a player commits an offence listed in the laws of the game while the ball is in play. the offences that constitute a foul are listed in law 12. handling the ball deliberately, tripping an opponent, or pushing an opponent, are examples of \"penal fouls\", punishable by a direct free kick or penalty kick depending on where the offence occurred. other fouls are punishable by an indirect free kick.[91] the referee may punish a player\\'s or substitute\\'s misconduct by a caution (yellow card) or dismissal (red card). a second yellow card in the same game leads to a red card, which results in a dismissal. a player given a yellow card is said to have been \"booked\", the referee writing the player\\'s name in their official notebook. if a player has been dismissed, no substitute can be brought on in their place and the player may not participate in further play. misconduct may occur at any time, and while the offences that constitute misconduct are listed, the definitions are broad. in particular, the offence of \"unsporting behaviour\" may be used to deal with most events that violate the spirit of the game, even if they are not listed as specific offences. a referee can show a yellow or red card to a player, substitute, substituted player, and to non-players such as managers and support staff.[91][133] rather than stopping play, the referee may allow play to continue if doing so will benefit the team against which an offence has been committed. this is known as \"playing an advantage\".[134] the referee may \"call back\" play and penalise the original offence if the anticipated advantage does not ensue within \"a few seconds\". even if an offence is not penalised due to advantage being played, the offender may still be sanctioned for misconduct at the next stoppage of play.[135] the referee\\'s decision in all on-pitch matters is considered final.[136] the score of a match cannot be altered after the game, even if later evidence shows that decisions (including awards/non-awards of goals) were incorrect. along with the general administration of the sport, football associations and competition organisers also enforce good conduct in wider aspects of the game, dealing with issues such as comments to the press, clubs\\' financial management, doping, age fraud and match fixing. most competitions enforce mandatory suspensions for players who are sent off in a game.[137] some on-field incidents, if considered very serious (such as allegations of racial abuse), may result in competitions deciding to impose heavier sanctions than those normally associated with a red card. some associations allow for appeals against player suspensions incurred on-field if clubs feel a referee was incorrect or unduly harsh.[137] sanctions for such infractions may be levied on individuals or on clubs as a whole. penalties may include fines, point deductions (in league competitions) or even expulsion from competitions. for example, the english football league deduct 12 points from any team that enters financial administration.[138] among other administrative sanctions are penalties against game forfeiture. teams that had forfeited a game or had been forfeited against would be awarded a technical loss or win. the recognised international governing body of football (and associated games, such as futsal and beach soccer) is fifa. the fifa headquarters are located in zürich, switzerland. six regional confederations are associated with fifa; these are:[139] national associations (or national federations) oversee football within individual countries. these are generally synonymous with sovereign states (for example, the cameroonian football federation in cameroon), but also include a smaller number of associations responsible for sub-national entities or autonomous regions (for example, the scottish football association in scotland). 211 national associations are affiliated both with fifa and with their respective continental confederations.[139] other national associations may be members of continental confederations but otherwise not participate in fifa competitions.[140] while fifa is responsible for arranging competitions and most rules related to international competition, the actual laws of the game are set by the ifab, where each of the uk associations has one vote, while fifa collectively has four votes.[44] international competitions in association football principally consist of two varieties: competitions involving representative national teams or those involving clubs based in multiple nations and national leagues. international football, without qualification, most often refers to the former. in the case of international club competition, it is the country of origin of the clubs involved, not the nationalities of their players, that renders the competition international in nature. the major international competition in football is the world cup, organised by fifa. this competition has taken place every four years since 1930, with the exception of the 1942 and 1946 tournaments, which were cancelled because of world war ii. as of 2022, over 200 national teams compete in qualifying tournaments within the scope of continental confederations for a place in the finals.[141] the finals tournament, held every four years, involved 32 national teams (expanding to 48 teams for the 2026 tournament) competing over a four-week period.[142] the world cup is the most prestigious association football tournament as well as the most widely viewed and followed sporting event in the world, exceeding even the olympic games; the cumulative audience of all matches of the 2006 fifa world cup was estimated to be 26.29 billion with an estimated 715.1 million people watching the final match, one-ninth of the entire population of the planet.[143][144][145][146] the 1958 world cup saw the emergence of pelé as a global sporting star, a period that coincided with \"the explosive spread of television, which massively amplified his presence everywhere\".[147] the current champions are argentina, who won their third title at the 2022 tournament in qatar.[148] the fifa women\\'s world cup has been held every four years since 1991. under the tournament\\'s current format that was expanded in 2023, national teams vie for 31 slots in a three-year qualification phase, while the host nation\\'s team enters automatically as the 32nd slot.[149] the current champions are spain, after winning their first title in the 2023 tournament.[150] there has been a football tournament at every summer olympic games since 1900, except at the 1932 games in los angeles.[151] before the inception of the world cup, the olympics (especially during the 1920s) were the most prestigious international event. originally, the tournament was for amateurs only.[43] as professionalism spread around the world, the gap in quality between the world cup and the olympics widened. the countries that benefited most were the soviet bloc countries of eastern europe, where top athletes were state-sponsored while retaining their status as amateurs. between 1948 and 1980, 23 out of 27 olympic medals were won by eastern europe, with only sweden (gold in 1948 and bronze in 1952), denmark (bronze in 1948 and silver in 1960) and japan (bronze in 1968) breaking their dominance. for the 1984 los angeles games, the ioc allowed professional players to compete. since 1992, male competitors must be under 23 years old, although since 1996, three players over the age of 23 have been allowed per squad.[152] a women\\'s tournament was added in 1996; in contrast to the men\\'s event, full international sides without age restrictions play the women\\'s olympic tournament.[153] after the world cup, the most important international football competitions are the continental championships, which are organised by each continental confederation and contested between national teams. these are the european championship (uefa), the copa américa (conmebol), the african cup of nations (caf), the asian cup (afc), the concacaf gold cup (concacaf) and the ofc nations cup (ofc).[154] these competitions are not strictly limited to members of the continental confederations, with guest teams from other continents sometimes invited to compete.[155] the fifa confederations cup was contested by the winners of all six continental championships, the current fifa world cup champions, and the country which was hosting the next world cup. this was generally regarded as a warm-up tournament for the upcoming fifa world cup and did not carry the same prestige as the world cup itself.[154] the tournament was discontinued following the 2017 edition with its calendar slot replaced by an expanded fifa club world cup.[156] the uefa nations league and the concacaf nations league were introduced in the late 2010s to replace international friendlies during the two-year cycle between major tournaments.[157] the most prestigious competitions in club football are the respective continental championships, which are generally contested between national champions, for example, the uefa champions league in europe and the copa libertadores in south america. the winners of each continental competition contest the fifa club world cup.[158] the governing bodies in each country operate league systems in a domestic season, normally comprising several divisions, in which the teams gain points throughout the season depending on results. teams are placed into tables, placing them in order according to points accrued. most commonly, each team plays every other team in its league at home and away in each season, in a round-robin tournament. at the end of a season, the top team is declared the champion. the top few teams may be promoted to a higher division, and one or more of the teams finishing at the bottom are relegated to a lower division.[160] the teams finishing at the top of a country\\'s league may also be eligible to play in international club competitions in the following season. the main exceptions to this system occur in some latin american leagues, which divide football championships into two sections named apertura and clausura (spanish for opening and closing), awarding a champion for each.[161] the majority of countries supplement the league system with one or more \"cup\" competitions organised on a knock-out basis.[citation needed] these also include the domestic cup, which may be open to all eligible teams in a country\\'s league system—both professional and amateur—and is organised by the national federation.[162] some countries\\' top divisions feature highly paid star players; in smaller countries, lower divisions, and many women\\'s clubs, players may be part-timers with a second job, or amateurs.[citation needed] the five top european leagues – premier league (england),[163] bundesliga (germany), la liga (spain), serie a (italy), and ligue 1 (france) – attract most of the world\\'s best players and, during the 2006–07 season, each of these leagues had a total wage cost in excess of €600 million.[164][needs update] these leagues also generated a combined €17.2 billion in revenue in the 2021–22 season from television contracts, matchday tickets, sponsorships, and other sources.[165] '"
      ]
     },
     "execution_count": 6,
     "metadata": {},
     "output_type": "execute_result"
    }
   ],
   "source": [
    "# Demos un vistazo\n",
    "text"
   ]
  },
  {
   "cell_type": "code",
   "execution_count": 7,
   "metadata": {
    "id": "PA5F0s4UsMpf"
   },
   "outputs": [
    {
     "name": "stdout",
     "output_type": "stream",
     "text": [
      "Cantidad de caracteres en el texto: 42104\n"
     ]
    }
   ],
   "source": [
    "print(\"Cantidad de caracteres en el texto:\", len(text))"
   ]
  },
  {
   "cell_type": "markdown",
   "metadata": {
    "id": "DKNcDGcisajf"
   },
   "source": [
    "### 3 - Dividir el texto en sentencias y en palabras"
   ]
  },
  {
   "cell_type": "code",
   "execution_count": 8,
   "metadata": {
    "id": "reXBOFQ7sdlB"
   },
   "outputs": [],
   "source": [
    "corpus = nltk.sent_tokenize(text) # divide en oraciones\n",
    "words = nltk.word_tokenize(text) # divide en términos"
   ]
  },
  {
   "cell_type": "code",
   "execution_count": 9,
   "metadata": {
    "id": "J5GloV9fsi6o"
   },
   "outputs": [
    {
     "data": {
      "text/plain": [
       "[' association football, more commonly known as football or soccer, is a team sport played between two teams of 11 players each, who primarily use their feet to propel a ball around a rectangular field called a pitch.',\n",
       " 'the objective of the game is to score more goals than the opposing team by moving the ball beyond the goal line into a rectangular-framed goal defended by the opposing team.',\n",
       " 'traditionally, the game has been played over two 45-minute halves, for a total match time of 90 minutes.',\n",
       " \"with an estimated 250 million players active in over 200 countries and territories, it is the world's most popular sport.\",\n",
       " 'the game of association football is played in accordance with the laws of the game, a set of rules that has been in effect since 1863 and maintained by the ifab since 1886. the game is played with a football that is 68–70 cm (27–28 in) in circumference.',\n",
       " \"the two teams compete to get the ball into the other team's goal (between the posts and under the bar), thereby scoring a goal.\",\n",
       " 'when the ball is in play, the players mainly use their feet, but may use any other part of their body, except for their hands or arms, to control, strike, or pass the ball.',\n",
       " 'only the goalkeepers may use their hands and arms, and only then within the penalty area.',\n",
       " 'the team that has scored more goals at the end of the game is the winner.',\n",
       " 'depending on the format of the competition, an equal number of goals scored may result in a draw being declared, or the game goes into extra time or a penalty shoot-out.']"
      ]
     },
     "execution_count": 9,
     "metadata": {},
     "output_type": "execute_result"
    }
   ],
   "source": [
    "# Demos un vistazo\n",
    "corpus[:10]"
   ]
  },
  {
   "cell_type": "code",
   "execution_count": 10,
   "metadata": {
    "id": "hmQ7nkvvsi0i"
   },
   "outputs": [
    {
     "data": {
      "text/plain": [
       "['association',\n",
       " 'football',\n",
       " ',',\n",
       " 'more',\n",
       " 'commonly',\n",
       " 'known',\n",
       " 'as',\n",
       " 'football',\n",
       " 'or',\n",
       " 'soccer',\n",
       " ',',\n",
       " 'is',\n",
       " 'a',\n",
       " 'team',\n",
       " 'sport',\n",
       " 'played',\n",
       " 'between',\n",
       " 'two',\n",
       " 'teams',\n",
       " 'of']"
      ]
     },
     "execution_count": 10,
     "metadata": {},
     "output_type": "execute_result"
    }
   ],
   "source": [
    "# Demos un vistazo\n",
    "words[:20]"
   ]
  },
  {
   "cell_type": "code",
   "execution_count": 11,
   "metadata": {
    "id": "YXPWNkKfEvDZ"
   },
   "outputs": [
    {
     "name": "stdout",
     "output_type": "stream",
     "text": [
      "Vocabulario: 8297\n"
     ]
    }
   ],
   "source": [
    "print(\"Vocabulario:\", len(words))"
   ]
  },
  {
   "cell_type": "markdown",
   "metadata": {
    "id": "NlYKyb3OtDse"
   },
   "source": [
    "### 4 - Funciones de ayuda para limpiar y procesar el input del usuario\n",
    "- Lematizar los tokens de la oración\n",
    "- Quitar símbolos de puntuación"
   ]
  },
  {
   "cell_type": "code",
   "execution_count": 12,
   "metadata": {
    "id": "afPok8pstPOx"
   },
   "outputs": [],
   "source": [
    "from nltk.stem import WordNetLemmatizer\n",
    "lemmatizer = WordNetLemmatizer()\n",
    "\n",
    "def perform_lemmatization(tokens):\n",
    "    return [lemmatizer.lemmatize(token) for token in tokens]\n",
    "\n",
    "# ord() nos da el código Unicode para un caracter dado\n",
    "punctuation_removal = dict((ord(punctuation), None) for punctuation in string.punctuation)\n",
    "\n",
    "def get_processed_text(document):\n",
    "    # 1 - reduce el texto a mínuscula (string.lower())\n",
    "    # 2 - quitar los simbolos de puntuacion (string.translate())\n",
    "    # 3 - realiza la tokenización (nltk.word_tokenize)\n",
    "    # 4 - realiza la lematización (nuestra función perform_lemmatization)\n",
    "    return perform_lemmatization(nltk.word_tokenize(document.lower().translate(punctuation_removal)))"
   ]
  },
  {
   "cell_type": "markdown",
   "metadata": {
    "id": "Jl8r6d9ZuyR9"
   },
   "source": [
    "### 5 - Utilizar vectores TF-IDF y la similitud coseno construido con el corpus del artículo de wikipedia"
   ]
  },
  {
   "cell_type": "code",
   "execution_count": 13,
   "metadata": {
    "id": "IRYFHcBfk2Gt"
   },
   "outputs": [],
   "source": [
    "from sklearn.feature_extraction.text import TfidfVectorizer\n",
    "from sklearn.metrics.pairwise import cosine_similarity\n",
    "\n",
    "def generate_response(user_input, corpus):\n",
    "    response = ''\n",
    "    # Sumar al corpus la pregunta del usuario para calcular\n",
    "    # su cercania con otros documentos/sentencias\n",
    "    # la entrada del usuario se usa para tokenizar y vectorizar\n",
    "    corpus.append(user_input)\n",
    "\n",
    "    # Crear un vectorizar TFIDF que quite las \"stop words\" del ingles y utilice\n",
    "    # nuestra funcion para obtener los tokens lematizados \"get_processed_text\"\n",
    "    word_vectorizer = TfidfVectorizer(tokenizer=get_processed_text, stop_words='english')\n",
    "\n",
    "    # Crear los vectores a partir del corpus\n",
    "    all_word_vectors = word_vectorizer.fit_transform(corpus)\n",
    "\n",
    "    # Calcular la similitud coseno entre todas los documentos excepto el agregado (el útlimo \"-1\")\n",
    "    # NOTA: con los word embedings veremos más en detalle esta matriz de similitud\n",
    "    similar_vector_values = cosine_similarity(all_word_vectors[-1], all_word_vectors)\n",
    "\n",
    "    # Obtener el índice del vector más cercano a nuestra oración\n",
    "    # --> descartando la similitud contra nuestor vector propio\n",
    "    similar_sentence_number = similar_vector_values.argsort()[0][-2]\n",
    "    matched_vector = similar_vector_values.flatten()\n",
    "    matched_vector.sort()\n",
    "    vector_matched = matched_vector[-2]\n",
    "\n",
    "    if vector_matched == 0: # si la similaridad coseno fue nula (ningún término en común)\n",
    "        response = \"I am sorry, I could not understand you\"\n",
    "    else:\n",
    "        response = corpus[similar_sentence_number] # obtener el documento del corpus más similar\n",
    "    \n",
    "    corpus.remove(user_input)\n",
    "    return response"
   ]
  },
  {
   "cell_type": "markdown",
   "metadata": {
    "id": "OK-BuXPBybSp"
   },
   "source": [
    "### 6 - Ensayar el sistema\n",
    "El sistema intentará encontrar la parte del artículo que más se relaciona con nuestro texto de entrada."
   ]
  },
  {
   "cell_type": "code",
   "execution_count": 16,
   "metadata": {},
   "outputs": [],
   "source": [
    "def bot_response(human_text):\n",
    "    print(\"Q:\", human_text)    \n",
    "    resp = generate_response(human_text.lower(), corpus)\n",
    "    print(\"A:\", resp)\n",
    "    return resp"
   ]
  },
  {
   "cell_type": "code",
   "execution_count": 26,
   "metadata": {},
   "outputs": [
    {
     "name": "stdout",
     "output_type": "stream",
     "text": [
      "Q: what is soccer\n",
      "A: the recognised international governing body of football (and associated games, such as futsal and beach soccer) is fifa.\n"
     ]
    },
    {
     "data": {
      "text/plain": [
       "'the recognised international governing body of football (and associated games, such as futsal and beach soccer) is fifa.'"
      ]
     },
     "execution_count": 26,
     "metadata": {},
     "output_type": "execute_result"
    }
   ],
   "source": [
    "bot_response('what is soccer')"
   ]
  },
  {
   "cell_type": "code",
   "execution_count": 19,
   "metadata": {},
   "outputs": [
    {
     "name": "stdout",
     "output_type": "stream",
     "text": [
      "Q: how many players are there in a game?\n",
      "A: while players typically spend most of the game in a specific position, there are few restrictions on player movement, and players can switch positions at any time.\n"
     ]
    },
    {
     "data": {
      "text/plain": [
       "'while players typically spend most of the game in a specific position, there are few restrictions on player movement, and players can switch positions at any time.'"
      ]
     },
     "execution_count": 19,
     "metadata": {},
     "output_type": "execute_result"
    }
   ],
   "source": [
    "bot_response('how many players are there in a game?')"
   ]
  },
  {
   "cell_type": "code",
   "execution_count": 25,
   "metadata": {},
   "outputs": [
    {
     "name": "stdout",
     "output_type": "stream",
     "text": [
      "Q: how long does a game last?\n",
      "A: women may have been playing football for as long as the game has existed.\n"
     ]
    },
    {
     "data": {
      "text/plain": [
       "'women may have been playing football for as long as the game has existed.'"
      ]
     },
     "execution_count": 25,
     "metadata": {},
     "output_type": "execute_result"
    }
   ],
   "source": [
    "bot_response('how long does a game last?')"
   ]
  },
  {
   "cell_type": "code",
   "execution_count": 24,
   "metadata": {},
   "outputs": [
    {
     "name": "stdout",
     "output_type": "stream",
     "text": [
      "Q: when was soccer created?\n",
      "A: [45] in the second half of the century, the european cup and the copa libertadores were created, and the champions of these two club competitions would contest the intercontinental cup to prove which team was the best in the world.\n"
     ]
    },
    {
     "data": {
      "text/plain": [
       "'[45] in the second half of the century, the european cup and the copa libertadores were created, and the champions of these two club competitions would contest the intercontinental cup to prove which team was the best in the world.'"
      ]
     },
     "execution_count": 24,
     "metadata": {},
     "output_type": "execute_result"
    }
   ],
   "source": [
    "bot_response('when was soccer created?')"
   ]
  },
  {
   "cell_type": "code",
   "execution_count": 23,
   "metadata": {},
   "outputs": [
    {
     "name": "stdout",
     "output_type": "stream",
     "text": [
      "Q: what is the length of the pitch?\n",
      "A: fields for non-international matches may be 90–120 m (100–130 yd) in length and 45–90 m (50–100 yd) in width, provided the pitch does not become square.\n"
     ]
    },
    {
     "data": {
      "text/plain": [
       "'fields for non-international matches may be 90–120 m (100–130 yd) in length and 45–90 m (50–100 yd) in width, provided the pitch does not become square.'"
      ]
     },
     "execution_count": 23,
     "metadata": {},
     "output_type": "execute_result"
    }
   ],
   "source": [
    "bot_response('what is the length of the pitch?')"
   ]
  },
  {
   "cell_type": "code",
   "execution_count": 28,
   "metadata": {},
   "outputs": [
    {
     "name": "stdout",
     "output_type": "stream",
     "text": [
      "Q: Discuss the evolution of soccer as a global phenomenon, exploring its historical origins, the development of its rules, the growth of international competitions and the influence of key players and managers on the game\n",
      "A: in the case of international club competition, it is the country of origin of the clubs involved, not the nationalities of their players, that renders the competition international in nature.\n"
     ]
    },
    {
     "data": {
      "text/plain": [
       "'in the case of international club competition, it is the country of origin of the clubs involved, not the nationalities of their players, that renders the competition international in nature.'"
      ]
     },
     "execution_count": 28,
     "metadata": {},
     "output_type": "execute_result"
    }
   ],
   "source": [
    "bot_response('Discuss the evolution of soccer as a global phenomenon, exploring its historical origins, the development of its rules, the growth of international competitions and the influence of key players and managers on the game')"
   ]
  },
  {
   "cell_type": "code",
   "execution_count": 30,
   "metadata": {},
   "outputs": [
    {
     "name": "stdout",
     "output_type": "stream",
     "text": [
      "Q: What is golf?\n",
      "A: I am sorry, I could not understand you\n"
     ]
    },
    {
     "data": {
      "text/plain": [
       "'I am sorry, I could not understand you'"
      ]
     },
     "execution_count": 30,
     "metadata": {},
     "output_type": "execute_result"
    }
   ],
   "source": [
    "bot_response('What is golf?')"
   ]
  },
  {
   "cell_type": "markdown",
   "metadata": {},
   "source": [
    "### 7 - Conclusiones"
   ]
  },
  {
   "cell_type": "markdown",
   "metadata": {},
   "source": [
    "El sistema da respuestas solidas cuando las preguntas son basadas en el contenido del corpus, podría ser particularmente útil en el caso de que se necesite encontrar respuestas de preguntas similares al contenido.\n",
    "\n",
    "Sin embargo tambien puede otorgar respuestas erroneas ya que depende de la calidad de los datos del corpus.\n",
    "\n",
    "Aparentemente no captura el significado semántico de las oraciones y es posible que pueda mejorarse utilizando embeddings."
   ]
  }
 ],
 "metadata": {
  "colab": {
   "collapsed_sections": [],
   "name": "2c - bot_tfidf_nltk.ipynb",
   "provenance": []
  },
  "kernelspec": {
   "display_name": "Python 3 (ipykernel)",
   "language": "python",
   "name": "python3"
  },
  "language_info": {
   "codemirror_mode": {
    "name": "ipython",
    "version": 3
   },
   "file_extension": ".py",
   "mimetype": "text/x-python",
   "name": "python",
   "nbconvert_exporter": "python",
   "pygments_lexer": "ipython3",
   "version": "3.11.5"
  }
 },
 "nbformat": 4,
 "nbformat_minor": 4
}
